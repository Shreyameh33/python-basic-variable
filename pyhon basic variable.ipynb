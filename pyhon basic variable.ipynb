{
 "cells": [
  {
   "cell_type": "code",
   "execution_count": 1,
   "id": "1f85161e-a626-4ef7-b837-867c5f26d263",
   "metadata": {
    "tags": []
   },
   "outputs": [
    {
     "data": {
      "text/plain": [
       "3"
      ]
     },
     "execution_count": 1,
     "metadata": {},
     "output_type": "execute_result"
    }
   ],
   "source": [
    "1+2"
   ]
  },
  {
   "cell_type": "code",
   "execution_count": 2,
   "id": "f6f64d48-46fc-48f5-8477-28f4cc1b5e35",
   "metadata": {},
   "outputs": [],
   "source": [
    "b = 10"
   ]
  },
  {
   "cell_type": "code",
   "execution_count": 53,
   "id": "df3d5f10-ee9c-4162-b319-c0a95d5ab619",
   "metadata": {},
   "outputs": [],
   "source": [
    "shreya = 7896546"
   ]
  },
  {
   "cell_type": "code",
   "execution_count": 3,
   "id": "39da43b3-ffe5-4e24-b75a-31aa2c1fec16",
   "metadata": {},
   "outputs": [
    {
     "data": {
      "text/plain": [
       "int"
      ]
     },
     "execution_count": 3,
     "metadata": {},
     "output_type": "execute_result"
    }
   ],
   "source": [
    "type(b)"
   ]
  },
  {
   "cell_type": "code",
   "execution_count": 15,
   "id": "850e8e2d-b649-4678-b4f7-689eca90c608",
   "metadata": {},
   "outputs": [],
   "source": [
    "s = \"pwskills\""
   ]
  },
  {
   "cell_type": "code",
   "execution_count": 16,
   "id": "a8aadf84-3f7b-456a-88be-51a7ecf4c01e",
   "metadata": {},
   "outputs": [
    {
     "data": {
      "text/plain": [
       "str"
      ]
     },
     "execution_count": 16,
     "metadata": {},
     "output_type": "execute_result"
    }
   ],
   "source": [
    "type (s)"
   ]
  },
  {
   "cell_type": "code",
   "execution_count": 17,
   "id": "afc5a8f9-5c3a-4bf0-86d6-e30e3744cc8e",
   "metadata": {},
   "outputs": [
    {
     "data": {
      "text/plain": [
       "'pwskills'"
      ]
     },
     "execution_count": 17,
     "metadata": {},
     "output_type": "execute_result"
    }
   ],
   "source": [
    "s"
   ]
  },
  {
   "cell_type": "code",
   "execution_count": 18,
   "id": "d46bd5c4-6a24-4b45-9269-eb9990ab4767",
   "metadata": {},
   "outputs": [],
   "source": [
    "s1 = 'this is my first python lecture'"
   ]
  },
  {
   "cell_type": "code",
   "execution_count": 19,
   "id": "12e095ba-4156-4444-9831-056cf6cc3b07",
   "metadata": {},
   "outputs": [
    {
     "data": {
      "text/plain": [
       "'this is my first python lecture'"
      ]
     },
     "execution_count": 19,
     "metadata": {},
     "output_type": "execute_result"
    }
   ],
   "source": [
    "s1"
   ]
  },
  {
   "cell_type": "code",
   "execution_count": 20,
   "id": "b2fb15ef-222c-4ff5-8865-cc848b8fdb25",
   "metadata": {},
   "outputs": [
    {
     "data": {
      "text/plain": [
       "str"
      ]
     },
     "execution_count": 20,
     "metadata": {},
     "output_type": "execute_result"
    }
   ],
   "source": [
    "type(s1)"
   ]
  },
  {
   "cell_type": "code",
   "execution_count": 21,
   "id": "7d7bc2e7-536b-41fb-aa4f-174c7198ebe0",
   "metadata": {},
   "outputs": [],
   "source": [
    "f = 457.7887"
   ]
  },
  {
   "cell_type": "code",
   "execution_count": 22,
   "id": "0f54dd72-c8ab-48b1-a052-76c388809c4a",
   "metadata": {},
   "outputs": [
    {
     "data": {
      "text/plain": [
       "float"
      ]
     },
     "execution_count": 22,
     "metadata": {},
     "output_type": "execute_result"
    }
   ],
   "source": [
    "type(f)"
   ]
  },
  {
   "cell_type": "code",
   "execution_count": 23,
   "id": "03ad1110-6449-42d6-9873-9d2006602653",
   "metadata": {},
   "outputs": [],
   "source": [
    "c = 5+6j"
   ]
  },
  {
   "cell_type": "code",
   "execution_count": 24,
   "id": "d6f8a8c5-9aea-487e-8db6-981953731419",
   "metadata": {},
   "outputs": [
    {
     "data": {
      "text/plain": [
       "complex"
      ]
     },
     "execution_count": 24,
     "metadata": {},
     "output_type": "execute_result"
    }
   ],
   "source": [
    "type(c)"
   ]
  },
  {
   "cell_type": "code",
   "execution_count": 25,
   "id": "f731c84e-1e81-4a12-9c12-80839d84ba48",
   "metadata": {},
   "outputs": [
    {
     "data": {
      "text/plain": [
       "(5+6j)"
      ]
     },
     "execution_count": 25,
     "metadata": {},
     "output_type": "execute_result"
    }
   ],
   "source": [
    "c"
   ]
  },
  {
   "cell_type": "code",
   "execution_count": 26,
   "id": "8857a1aa-e3b6-48ff-9eb4-1b6026996ad7",
   "metadata": {},
   "outputs": [
    {
     "data": {
      "text/plain": [
       "5.0"
      ]
     },
     "execution_count": 26,
     "metadata": {},
     "output_type": "execute_result"
    }
   ],
   "source": [
    "c.real"
   ]
  },
  {
   "cell_type": "code",
   "execution_count": 27,
   "id": "77288e27-2677-4293-add5-b6eeeaa53bba",
   "metadata": {},
   "outputs": [
    {
     "data": {
      "text/plain": [
       "6.0"
      ]
     },
     "execution_count": 27,
     "metadata": {},
     "output_type": "execute_result"
    }
   ],
   "source": [
    "c.imag"
   ]
  },
  {
   "cell_type": "code",
   "execution_count": 28,
   "id": "e152ca1f-deba-4bbc-b42e-53dcc21e04c8",
   "metadata": {},
   "outputs": [],
   "source": [
    "b = True"
   ]
  },
  {
   "cell_type": "code",
   "execution_count": 29,
   "id": "15c8bdd0-f3b0-40ae-bb83-e23a33296a49",
   "metadata": {},
   "outputs": [
    {
     "data": {
      "text/plain": [
       "bool"
      ]
     },
     "execution_count": 29,
     "metadata": {},
     "output_type": "execute_result"
    }
   ],
   "source": [
    "type(b)"
   ]
  },
  {
   "cell_type": "code",
   "execution_count": 30,
   "id": "a82a43a4-ae9a-4fc7-87ee-b31587309705",
   "metadata": {},
   "outputs": [],
   "source": [
    "b1 = False"
   ]
  },
  {
   "cell_type": "code",
   "execution_count": 31,
   "id": "26aa65fd-b5b3-4831-b1f6-735f9e597a5f",
   "metadata": {},
   "outputs": [
    {
     "data": {
      "text/plain": [
       "bool"
      ]
     },
     "execution_count": 31,
     "metadata": {},
     "output_type": "execute_result"
    }
   ],
   "source": [
    "type(b1)"
   ]
  },
  {
   "cell_type": "code",
   "execution_count": 34,
   "id": "d4b3dd05-7dc7-4a1a-86b3-230ac9d7d66f",
   "metadata": {},
   "outputs": [],
   "source": [
    "a1 = 45\n",
    "a2 = 34"
   ]
  },
  {
   "cell_type": "code",
   "execution_count": 35,
   "id": "dbd7caf5-8361-433d-afd5-b6b2de7327ba",
   "metadata": {},
   "outputs": [
    {
     "data": {
      "text/plain": [
       "79"
      ]
     },
     "execution_count": 35,
     "metadata": {},
     "output_type": "execute_result"
    }
   ],
   "source": [
    "a1+a2"
   ]
  },
  {
   "cell_type": "code",
   "execution_count": 36,
   "id": "763c6a81-4910-4ae8-9d4b-5ba2712db5dd",
   "metadata": {},
   "outputs": [
    {
     "data": {
      "text/plain": [
       "1530"
      ]
     },
     "execution_count": 36,
     "metadata": {},
     "output_type": "execute_result"
    }
   ],
   "source": [
    "a1*a2"
   ]
  },
  {
   "cell_type": "code",
   "execution_count": 37,
   "id": "80ec8810-aa58-46f2-abe3-12ddaceff9e4",
   "metadata": {},
   "outputs": [
    {
     "data": {
      "text/plain": [
       "1.3235294117647058"
      ]
     },
     "execution_count": 37,
     "metadata": {},
     "output_type": "execute_result"
    }
   ],
   "source": [
    "a1/a2"
   ]
  },
  {
   "cell_type": "code",
   "execution_count": 38,
   "id": "eebc9ef4-afd8-4d78-8ea1-a9e9abee8155",
   "metadata": {},
   "outputs": [
    {
     "data": {
      "text/plain": [
       "11"
      ]
     },
     "execution_count": 38,
     "metadata": {},
     "output_type": "execute_result"
    }
   ],
   "source": [
    "a1-a2"
   ]
  },
  {
   "cell_type": "code",
   "execution_count": 41,
   "id": "b90dcc58-00b7-4be7-b7f9-b14d60b4914b",
   "metadata": {},
   "outputs": [],
   "source": [
    "a1,a2 = 34,45"
   ]
  },
  {
   "cell_type": "code",
   "execution_count": 42,
   "id": "834d60d8-2b92-4d5d-a44f-756f14c69c28",
   "metadata": {},
   "outputs": [
    {
     "data": {
      "text/plain": [
       "34"
      ]
     },
     "execution_count": 42,
     "metadata": {},
     "output_type": "execute_result"
    }
   ],
   "source": [
    "a1"
   ]
  },
  {
   "cell_type": "code",
   "execution_count": 43,
   "id": "5b0bf940-f676-41ef-8534-fcd11a8fe6b2",
   "metadata": {},
   "outputs": [
    {
     "data": {
      "text/plain": [
       "45"
      ]
     },
     "execution_count": 43,
     "metadata": {},
     "output_type": "execute_result"
    }
   ],
   "source": [
    "a2"
   ]
  },
  {
   "cell_type": "code",
   "execution_count": 54,
   "id": "590c03a9-ad49-4707-b87f-a5d5a98e144b",
   "metadata": {},
   "outputs": [],
   "source": [
    "a,b,c,d = 354,'shreya',56.67,True"
   ]
  },
  {
   "cell_type": "code",
   "execution_count": 45,
   "id": "135439ed-6a1b-4d02-b296-287969d089f5",
   "metadata": {},
   "outputs": [
    {
     "data": {
      "text/plain": [
       "354"
      ]
     },
     "execution_count": 45,
     "metadata": {},
     "output_type": "execute_result"
    }
   ],
   "source": [
    "a"
   ]
  },
  {
   "cell_type": "code",
   "execution_count": 55,
   "id": "a4f97b97-4eeb-4471-b4f5-425b9aa85853",
   "metadata": {},
   "outputs": [
    {
     "data": {
      "text/plain": [
       "'shreya'"
      ]
     },
     "execution_count": 55,
     "metadata": {},
     "output_type": "execute_result"
    }
   ],
   "source": [
    "b"
   ]
  },
  {
   "cell_type": "code",
   "execution_count": 47,
   "id": "213b0abf-a1ab-4355-a2b7-aab1677e5c77",
   "metadata": {},
   "outputs": [
    {
     "data": {
      "text/plain": [
       "56.67"
      ]
     },
     "execution_count": 47,
     "metadata": {},
     "output_type": "execute_result"
    }
   ],
   "source": [
    "c"
   ]
  },
  {
   "cell_type": "code",
   "execution_count": 48,
   "id": "34922b77-95bd-4508-8883-cf570ac60854",
   "metadata": {},
   "outputs": [
    {
     "data": {
      "text/plain": [
       "True"
      ]
     },
     "execution_count": 48,
     "metadata": {},
     "output_type": "execute_result"
    }
   ],
   "source": [
    "d"
   ]
  },
  {
   "cell_type": "code",
   "execution_count": 56,
   "id": "21ad9b40-179b-4665-88e1-edb8fdf615e0",
   "metadata": {},
   "outputs": [
    {
     "name": "stderr",
     "output_type": "stream",
     "text": [
      "UsageError: Line magic function `%a` not found.\n"
     ]
    }
   ],
   "source": [
    "%a =342"
   ]
  },
  {
   "cell_type": "code",
   "execution_count": 57,
   "id": "3197315b-0486-4a50-887d-c4175c1df9d1",
   "metadata": {},
   "outputs": [
    {
     "ename": "SyntaxError",
     "evalue": "invalid syntax (2262752636.py, line 1)",
     "output_type": "error",
     "traceback": [
      "\u001b[0;36m  Cell \u001b[0;32mIn[57], line 1\u001b[0;36m\u001b[0m\n\u001b[0;31m    BECAUSE A PERCENTILE IS A SPECIAL CHARACHTER THATS WHY THIS EEROR IS COMING AL\u001b[0m\n\u001b[0m            ^\u001b[0m\n\u001b[0;31mSyntaxError\u001b[0m\u001b[0;31m:\u001b[0m invalid syntax\n"
     ]
    }
   ],
   "source": [
    "BECAUSE A PERCENTILE IS A SPECIAL CHARACHTER THATS WHY THIS EEROR IS COMING AL"
   ]
  },
  {
   "cell_type": "code",
   "execution_count": 2,
   "id": "5f1eb698-56d2-4122-b717-5e65ed5e8ba3",
   "metadata": {},
   "outputs": [
    {
     "ename": "SyntaxError",
     "evalue": "invalid binary literal (1975751126.py, line 1)",
     "output_type": "error",
     "traceback": [
      "\u001b[0;36m  Cell \u001b[0;32mIn[2], line 1\u001b[0;36m\u001b[0m\n\u001b[0;31m    0b = 7787\u001b[0m\n\u001b[0m     ^\u001b[0m\n\u001b[0;31mSyntaxError\u001b[0m\u001b[0;31m:\u001b[0m invalid binary literal\n"
     ]
    }
   ],
   "source": [
    "0b = 7787"
   ]
  },
  {
   "cell_type": "code",
   "execution_count": null,
   "id": "6d334aac-85ad-4022-9ab9-49ad1af76726",
   "metadata": {},
   "outputs": [],
   "source": [
    "b0 = 567"
   ]
  },
  {
   "cell_type": "code",
   "execution_count": 3,
   "id": "76c85546-de6a-4da3-a1fa-9bc69abf6a55",
   "metadata": {},
   "outputs": [
    {
     "ename": "SyntaxError",
     "evalue": "invalid syntax. Maybe you meant '==' or ':=' instead of '='? (1509206148.py, line 1)",
     "output_type": "error",
     "traceback": [
      "\u001b[0;36m  Cell \u001b[0;32mIn[3], line 1\u001b[0;36m\u001b[0m\n\u001b[0;31m    @h =567\u001b[0m\n\u001b[0m     ^\u001b[0m\n\u001b[0;31mSyntaxError\u001b[0m\u001b[0;31m:\u001b[0m invalid syntax. Maybe you meant '==' or ':=' instead of '='?\n"
     ]
    }
   ],
   "source": [
    "@h =567"
   ]
  },
  {
   "cell_type": "code",
   "execution_count": 4,
   "id": "5bc63c97-fdf0-45bc-a78d-b8113893aead",
   "metadata": {},
   "outputs": [],
   "source": [
    "_g =56"
   ]
  },
  {
   "cell_type": "code",
   "execution_count": 5,
   "id": "96ba85fb-7e94-4017-b088-1ee6f9ff61df",
   "metadata": {},
   "outputs": [
    {
     "ename": "SyntaxError",
     "evalue": "cannot assign to expression here. Maybe you meant '==' instead of '='? (4239720989.py, line 1)",
     "output_type": "error",
     "traceback": [
      "\u001b[0;36m  Cell \u001b[0;32mIn[5], line 1\u001b[0;36m\u001b[0m\n\u001b[0;31m    -b = 45\u001b[0m\n\u001b[0m    ^\u001b[0m\n\u001b[0;31mSyntaxError\u001b[0m\u001b[0;31m:\u001b[0m cannot assign to expression here. Maybe you meant '==' instead of '='?\n"
     ]
    }
   ],
   "source": [
    "-b = 45"
   ]
  },
  {
   "cell_type": "code",
   "execution_count": 6,
   "id": "dbe320a9-5601-4ac2-8bd7-b44c74589ad1",
   "metadata": {},
   "outputs": [
    {
     "ename": "SyntaxError",
     "evalue": "cannot assign to True (3873521806.py, line 1)",
     "output_type": "error",
     "traceback": [
      "\u001b[0;36m  Cell \u001b[0;32mIn[6], line 1\u001b[0;36m\u001b[0m\n\u001b[0;31m    True =45\u001b[0m\n\u001b[0m    ^\u001b[0m\n\u001b[0;31mSyntaxError\u001b[0m\u001b[0;31m:\u001b[0m cannot assign to True\n"
     ]
    }
   ],
   "source": [
    "True =45"
   ]
  },
  {
   "cell_type": "code",
   "execution_count": 7,
   "id": "e26c0e98-46a7-4245-b67e-66d30f701992",
   "metadata": {},
   "outputs": [],
   "source": [
    "int =67"
   ]
  },
  {
   "cell_type": "code",
   "execution_count": 8,
   "id": "71e6b6b6-7463-45eb-9701-95634163c7fd",
   "metadata": {},
   "outputs": [
    {
     "data": {
      "text/plain": [
       "67"
      ]
     },
     "execution_count": 8,
     "metadata": {},
     "output_type": "execute_result"
    }
   ],
   "source": [
    "int"
   ]
  },
  {
   "cell_type": "code",
   "execution_count": 10,
   "id": "66a0bbee-52db-42b6-8d63-8375ec395216",
   "metadata": {},
   "outputs": [],
   "source": [
    "b1 = True"
   ]
  },
  {
   "cell_type": "code",
   "execution_count": 12,
   "id": "8f3f0f8e-812a-492e-9752-42163d505095",
   "metadata": {},
   "outputs": [],
   "source": [
    "b2= False"
   ]
  },
  {
   "cell_type": "code",
   "execution_count": 13,
   "id": "14574a47-f87b-44ab-a126-796f820acd63",
   "metadata": {},
   "outputs": [
    {
     "data": {
      "text/plain": [
       "1"
      ]
     },
     "execution_count": 13,
     "metadata": {},
     "output_type": "execute_result"
    }
   ],
   "source": [
    "b1-b2"
   ]
  },
  {
   "cell_type": "code",
   "execution_count": 14,
   "id": "d2d0a649-c0e4-4c66-b389-43bd56df3ebe",
   "metadata": {},
   "outputs": [
    {
     "data": {
      "text/plain": [
       "-1"
      ]
     },
     "execution_count": 14,
     "metadata": {},
     "output_type": "execute_result"
    }
   ],
   "source": [
    "b2-b1"
   ]
  },
  {
   "cell_type": "code",
   "execution_count": 16,
   "id": "185628c0-808b-499b-bdc1-d20f0d8e536f",
   "metadata": {},
   "outputs": [
    {
     "data": {
      "text/plain": [
       "1"
      ]
     },
     "execution_count": 16,
     "metadata": {},
     "output_type": "execute_result"
    }
   ],
   "source": [
    "b1*b1"
   ]
  },
  {
   "cell_type": "code",
   "execution_count": 17,
   "id": "4951031c-c5c5-4140-b82b-70791be1ff07",
   "metadata": {},
   "outputs": [
    {
     "ename": "ZeroDivisionError",
     "evalue": "division by zero",
     "output_type": "error",
     "traceback": [
      "\u001b[0;31m---------------------------------------------------------------------------\u001b[0m",
      "\u001b[0;31mZeroDivisionError\u001b[0m                         Traceback (most recent call last)",
      "Cell \u001b[0;32mIn[17], line 1\u001b[0m\n\u001b[0;32m----> 1\u001b[0m \u001b[43mb1\u001b[49m\u001b[38;5;241;43m/\u001b[39;49m\u001b[43mb2\u001b[49m\n",
      "\u001b[0;31mZeroDivisionError\u001b[0m: division by zero"
     ]
    }
   ],
   "source": [
    "b1/b2"
   ]
  },
  {
   "cell_type": "code",
   "execution_count": 18,
   "id": "801f4764-b505-457a-af4a-4c6bfbe37d25",
   "metadata": {},
   "outputs": [],
   "source": [
    "s1 = 'my name is shreya mehra'"
   ]
  },
  {
   "cell_type": "code",
   "execution_count": 19,
   "id": "9e34e910-d10a-4fdb-b7fd-cdf174cf45bd",
   "metadata": {},
   "outputs": [
    {
     "data": {
      "text/plain": [
       "'my name is shreya mehra'"
      ]
     },
     "execution_count": 19,
     "metadata": {},
     "output_type": "execute_result"
    }
   ],
   "source": [
    "s1"
   ]
  },
  {
   "cell_type": "code",
   "execution_count": 20,
   "id": "b8f75815-4a5b-4864-9f57-cb7da847da13",
   "metadata": {},
   "outputs": [
    {
     "data": {
      "text/plain": [
       "str"
      ]
     },
     "execution_count": 20,
     "metadata": {},
     "output_type": "execute_result"
    }
   ],
   "source": [
    "type(s1)"
   ]
  },
  {
   "cell_type": "code",
   "execution_count": 30,
   "id": "2d3fd83f-d69a-489d-af44-3b84997c5a06",
   "metadata": {},
   "outputs": [],
   "source": [
    "#Extra aposrophe above line\n",
    "\n",
    "s2 = \"this is my first python class for data master's\""
   ]
  },
  {
   "cell_type": "code",
   "execution_count": 29,
   "id": "c4b51408-0156-4d9c-9248-d99634ea40b7",
   "metadata": {},
   "outputs": [],
   "source": [
    "s3 = 'this is shreya\"s pen'\n",
    "\n",
    "#this is my code to create a string variable with quotes"
   ]
  },
  {
   "cell_type": "code",
   "execution_count": 28,
   "id": "d7d9280e-a2ba-4c65-baf7-400eabc91273",
   "metadata": {},
   "outputs": [
    {
     "data": {
      "text/plain": [
       "str"
      ]
     },
     "execution_count": 28,
     "metadata": {},
     "output_type": "execute_result"
    }
   ],
   "source": [
    "type(s3)"
   ]
  },
  {
   "cell_type": "code",
   "execution_count": 32,
   "id": "a0b8882a-98d0-42c2-9ec6-7115dd77118f",
   "metadata": {},
   "outputs": [],
   "source": [
    "#this is my first python class\n",
    "#I am trying to learn variable declaration\n",
    "#so far i have learnt int, boolian, string, complex no., float variable declaration"
   ]
  },
  {
   "cell_type": "code",
   "execution_count": 40,
   "id": "98bfb178-b631-4e7b-ba3e-84dd6810b1e6",
   "metadata": {},
   "outputs": [
    {
     "data": {
      "text/plain": [
       "'shreya\\nmehra\\nnew skills will be discussed in this class\\npw skills is the best'"
      ]
     },
     "execution_count": 40,
     "metadata": {},
     "output_type": "execute_result"
    }
   ],
   "source": [
    "'''shreya\n",
    "mehra\n",
    "new skills will be discussed in this class\n",
    "pw skills is the best'''\n",
    "\n",
    "#3 apostrophe will be added or a hastag to add the comment"
   ]
  },
  {
   "cell_type": "code",
   "execution_count": 41,
   "id": "54cbb46e-1223-4040-9601-9bf57899da0a",
   "metadata": {},
   "outputs": [],
   "source": [
    "s1 =\"shreya\""
   ]
  },
  {
   "cell_type": "code",
   "execution_count": 42,
   "id": "74776320-2dce-4703-aaec-eee6125edb40",
   "metadata": {},
   "outputs": [],
   "source": [
    "a=10"
   ]
  },
  {
   "cell_type": "code",
   "execution_count": 47,
   "id": "fa41bc29-7b1d-4a67-bd71-35a561fae47f",
   "metadata": {},
   "outputs": [
    {
     "ename": "TypeError",
     "evalue": "can only concatenate str (not \"int\") to str",
     "output_type": "error",
     "traceback": [
      "\u001b[0;31m---------------------------------------------------------------------------\u001b[0m",
      "\u001b[0;31mTypeError\u001b[0m                                 Traceback (most recent call last)",
      "Cell \u001b[0;32mIn[47], line 1\u001b[0m\n\u001b[0;32m----> 1\u001b[0m \u001b[43ms1\u001b[49m\u001b[38;5;241;43m+\u001b[39;49m\u001b[43ma\u001b[49m\n",
      "\u001b[0;31mTypeError\u001b[0m: can only concatenate str (not \"int\") to str"
     ]
    }
   ],
   "source": [
    "s1+a"
   ]
  },
  {
   "cell_type": "code",
   "execution_count": 44,
   "id": "97e65e9f-90d8-44d6-9946-0054d521a94c",
   "metadata": {},
   "outputs": [
    {
     "data": {
      "text/plain": [
       "'shreyamehra'"
      ]
     },
     "execution_count": 44,
     "metadata": {},
     "output_type": "execute_result"
    }
   ],
   "source": [
    "\"shreya\" +\"mehra\""
   ]
  },
  {
   "cell_type": "code",
   "execution_count": 51,
   "id": "73f12f3a-ae90-459e-beaf-5c794d308380",
   "metadata": {},
   "outputs": [
    {
     "data": {
      "text/plain": [
       "'10'"
      ]
     },
     "execution_count": 51,
     "metadata": {},
     "output_type": "execute_result"
    }
   ],
   "source": [
    "str(a)\n",
    "#converting interger into a string using this function"
   ]
  },
  {
   "cell_type": "code",
   "execution_count": 46,
   "id": "74fd60b3-b6fb-4b5c-80d6-c85425501ef7",
   "metadata": {},
   "outputs": [
    {
     "data": {
      "text/plain": [
       "'10'"
      ]
     },
     "execution_count": 46,
     "metadata": {},
     "output_type": "execute_result"
    }
   ],
   "source": [
    "'10'"
   ]
  },
  {
   "cell_type": "code",
   "execution_count": 48,
   "id": "1e9e8d68-938f-47a5-9655-b1075f84b480",
   "metadata": {},
   "outputs": [
    {
     "data": {
      "text/plain": [
       "'shreya10'"
      ]
     },
     "execution_count": 48,
     "metadata": {},
     "output_type": "execute_result"
    }
   ],
   "source": [
    "s1+str(a)"
   ]
  },
  {
   "cell_type": "code",
   "execution_count": 50,
   "id": "2cb5b1d7-b58a-4784-ac9d-9e4a99cf49b3",
   "metadata": {},
   "outputs": [
    {
     "data": {
      "text/plain": [
       "'shreya 10'"
      ]
     },
     "execution_count": 50,
     "metadata": {},
     "output_type": "execute_result"
    }
   ],
   "source": [
    "s1+' '+str(a)"
   ]
  },
  {
   "cell_type": "code",
   "execution_count": 52,
   "id": "17a44f76-1f53-49bb-a997-66a5e03cee6e",
   "metadata": {},
   "outputs": [],
   "source": [
    "b =str(a)"
   ]
  },
  {
   "cell_type": "code",
   "execution_count": 53,
   "id": "ce2bcf72-b476-45d6-87f8-cf6085785b86",
   "metadata": {},
   "outputs": [
    {
     "data": {
      "text/plain": [
       "'10'"
      ]
     },
     "execution_count": 53,
     "metadata": {},
     "output_type": "execute_result"
    }
   ],
   "source": [
    "b"
   ]
  },
  {
   "cell_type": "code",
   "execution_count": 1,
   "id": "4142cbec-b7f9-48ae-9931-c099085e9361",
   "metadata": {},
   "outputs": [
    {
     "ename": "NameError",
     "evalue": "name 'b' is not defined",
     "output_type": "error",
     "traceback": [
      "\u001b[0;31m---------------------------------------------------------------------------\u001b[0m",
      "\u001b[0;31mNameError\u001b[0m                                 Traceback (most recent call last)",
      "Cell \u001b[0;32mIn[1], line 1\u001b[0m\n\u001b[0;32m----> 1\u001b[0m \u001b[38;5;28mint\u001b[39m(\u001b[43mb\u001b[49m)\n\u001b[1;32m      2\u001b[0m \u001b[38;5;66;03m#value of reserved keyword is changed that is why \u001b[39;00m\n\u001b[1;32m      3\u001b[0m \u001b[38;5;66;03m#error is coming\u001b[39;00m\n",
      "\u001b[0;31mNameError\u001b[0m: name 'b' is not defined"
     ]
    }
   ],
   "source": [
    "int(q)\n",
    "#value of reserved keyword is changed that is why \n",
    "#error is coming"
   ]
  },
  {
   "cell_type": "code",
   "execution_count": 4,
   "id": "1491336c-407d-4594-8dd1-74a58af5a06a",
   "metadata": {},
   "outputs": [],
   "source": [
    "#if only mumeric value in string we can convert it\n",
    "# but if we have alphanumeric not possible"
   ]
  },
  {
   "cell_type": "code",
   "execution_count": 5,
   "id": "d3a6ff40-6245-4aad-88e6-c71a2187f212",
   "metadata": {},
   "outputs": [],
   "source": [
    "a = 567864"
   ]
  },
  {
   "cell_type": "code",
   "execution_count": 7,
   "id": "793023d3-ec92-415a-85ea-dc42864a57be",
   "metadata": {},
   "outputs": [],
   "source": [
    "#HOW TO TAKE INPUT FROM USER\n",
    "# I WANT DIFFERENT VALUES FROM USER"
   ]
  },
  {
   "cell_type": "code",
   "execution_count": 12,
   "id": "19db4ce9-828f-4119-86b0-3d4d738bd659",
   "metadata": {},
   "outputs": [
    {
     "name": "stdin",
     "output_type": "stream",
     "text": [
      " 345.897\n"
     ]
    }
   ],
   "source": [
    "b = float(input())"
   ]
  },
  {
   "cell_type": "code",
   "execution_count": 13,
   "id": "6f1bd41f-e7e6-40f0-a66a-a54e063f885c",
   "metadata": {},
   "outputs": [
    {
     "data": {
      "text/plain": [
       "345.897"
      ]
     },
     "execution_count": 13,
     "metadata": {},
     "output_type": "execute_result"
    }
   ],
   "source": [
    "b"
   ]
  },
  {
   "cell_type": "code",
   "execution_count": 14,
   "id": "172c6057-6286-486c-9c4e-ed90a1d53ea3",
   "metadata": {},
   "outputs": [
    {
     "data": {
      "text/plain": [
       "float"
      ]
     },
     "execution_count": 14,
     "metadata": {},
     "output_type": "execute_result"
    }
   ],
   "source": [
    "type(b)"
   ]
  },
  {
   "cell_type": "code",
   "execution_count": 16,
   "id": "14f74560-85dc-4203-9a7d-e2955a8d27ed",
   "metadata": {},
   "outputs": [],
   "source": [
    "#input will always give you string output\n",
    "#if you will add any function like float, int,bool in front before putting an input then you will get that output as well otherwise only string output will be there\n",
    "#this means typecasting"
   ]
  },
  {
   "cell_type": "code",
   "execution_count": 23,
   "id": "cfbd4998-d52c-4c4d-9cd3-f1f0d3fef67d",
   "metadata": {},
   "outputs": [
    {
     "name": "stdin",
     "output_type": "stream",
     "text": [
      " 654\n"
     ]
    }
   ],
   "source": [
    "d = input()"
   ]
  },
  {
   "cell_type": "code",
   "execution_count": 24,
   "id": "4b0a7b2f-86a2-4363-802a-8643ba1431f6",
   "metadata": {},
   "outputs": [
    {
     "data": {
      "text/plain": [
       "'654'"
      ]
     },
     "execution_count": 24,
     "metadata": {},
     "output_type": "execute_result"
    }
   ],
   "source": [
    "d"
   ]
  },
  {
   "cell_type": "code",
   "execution_count": 25,
   "id": "bc639a3b-6b48-4ac6-a362-eb1cc47faaaa",
   "metadata": {},
   "outputs": [
    {
     "data": {
      "text/plain": [
       "str"
      ]
     },
     "execution_count": 25,
     "metadata": {},
     "output_type": "execute_result"
    }
   ],
   "source": [
    "type(d)"
   ]
  },
  {
   "cell_type": "code",
   "execution_count": 26,
   "id": "c339ef1c-c99a-4b91-a764-e8ba9b610955",
   "metadata": {},
   "outputs": [],
   "source": [
    "s=\"shreya\""
   ]
  },
  {
   "cell_type": "code",
   "execution_count": 28,
   "id": "67928320-25cc-4b39-985e-99ef39a6bdc4",
   "metadata": {},
   "outputs": [],
   "source": [
    "#forward indexing 0123\n",
    "#backward indexing -4,-3,-2,-1"
   ]
  },
  {
   "cell_type": "code",
   "execution_count": 29,
   "id": "8d61d9c9-6637-4fdc-b973-46bc3b63a14d",
   "metadata": {},
   "outputs": [
    {
     "data": {
      "text/plain": [
       "'h'"
      ]
     },
     "execution_count": 29,
     "metadata": {},
     "output_type": "execute_result"
    }
   ],
   "source": [
    "s[1]"
   ]
  },
  {
   "cell_type": "code",
   "execution_count": 30,
   "id": "9c973285-c36f-4582-8ad9-34afa2a0acde",
   "metadata": {},
   "outputs": [
    {
     "data": {
      "text/plain": [
       "'y'"
      ]
     },
     "execution_count": 30,
     "metadata": {},
     "output_type": "execute_result"
    }
   ],
   "source": [
    "s[4]"
   ]
  },
  {
   "cell_type": "code",
   "execution_count": 31,
   "id": "9d4fb41c-c787-4ba0-b6fd-0138e3839f7b",
   "metadata": {},
   "outputs": [
    {
     "ename": "IndexError",
     "evalue": "string index out of range",
     "output_type": "error",
     "traceback": [
      "\u001b[0;31m---------------------------------------------------------------------------\u001b[0m",
      "\u001b[0;31mIndexError\u001b[0m                                Traceback (most recent call last)",
      "Cell \u001b[0;32mIn[31], line 1\u001b[0m\n\u001b[0;32m----> 1\u001b[0m \u001b[43ms\u001b[49m\u001b[43m[\u001b[49m\u001b[38;5;241;43m100\u001b[39;49m\u001b[43m]\u001b[49m\n",
      "\u001b[0;31mIndexError\u001b[0m: string index out of range"
     ]
    }
   ],
   "source": [
    "s[100]"
   ]
  },
  {
   "cell_type": "code",
   "execution_count": 32,
   "id": "710c77de-3043-45f6-a293-7c6224c6f9a2",
   "metadata": {},
   "outputs": [
    {
     "data": {
      "text/plain": [
       "'a'"
      ]
     },
     "execution_count": 32,
     "metadata": {},
     "output_type": "execute_result"
    }
   ],
   "source": [
    "s[-1]"
   ]
  },
  {
   "cell_type": "code",
   "execution_count": 33,
   "id": "a5ad9dce-38e8-4c42-aeb1-d1a8dc9320da",
   "metadata": {},
   "outputs": [
    {
     "data": {
      "text/plain": [
       "'e'"
      ]
     },
     "execution_count": 33,
     "metadata": {},
     "output_type": "execute_result"
    }
   ],
   "source": [
    "s[-3]"
   ]
  },
  {
   "cell_type": "code",
   "execution_count": 34,
   "id": "62efd5f6-d0ef-4445-abf4-dc94a779d75a",
   "metadata": {},
   "outputs": [
    {
     "ename": "IndexError",
     "evalue": "string index out of range",
     "output_type": "error",
     "traceback": [
      "\u001b[0;31m---------------------------------------------------------------------------\u001b[0m",
      "\u001b[0;31mIndexError\u001b[0m                                Traceback (most recent call last)",
      "Cell \u001b[0;32mIn[34], line 1\u001b[0m\n\u001b[0;32m----> 1\u001b[0m \u001b[43ms\u001b[49m\u001b[43m[\u001b[49m\u001b[38;5;241;43m-\u001b[39;49m\u001b[38;5;241;43m78\u001b[39;49m\u001b[43m]\u001b[49m\n",
      "\u001b[0;31mIndexError\u001b[0m: string index out of range"
     ]
    }
   ],
   "source": [
    "s[-78]"
   ]
  },
  {
   "cell_type": "code",
   "execution_count": 35,
   "id": "cb3c3c90-7c3b-445a-8eeb-5251224ebfd0",
   "metadata": {},
   "outputs": [],
   "source": [
    "s1='pwskills'"
   ]
  },
  {
   "cell_type": "code",
   "execution_count": 42,
   "id": "203a086c-4e48-4b65-841d-d6623cf7e1d6",
   "metadata": {},
   "outputs": [
    {
     "data": {
      "text/plain": [
       "'pw'"
      ]
     },
     "execution_count": 42,
     "metadata": {},
     "output_type": "execute_result"
    }
   ],
   "source": [
    "s1[0:2]"
   ]
  },
  {
   "cell_type": "code",
   "execution_count": 43,
   "id": "54720db2-a6b4-4d58-b9fe-208c95cb66ad",
   "metadata": {},
   "outputs": [],
   "source": [
    "#trying to extract specific slice of data"
   ]
  },
  {
   "cell_type": "code",
   "execution_count": 50,
   "id": "5ff51c79-f3d4-4c31-83c3-02ec0e56455d",
   "metadata": {},
   "outputs": [
    {
     "data": {
      "text/plain": [
       "'skills'"
      ]
     },
     "execution_count": 50,
     "metadata": {},
     "output_type": "execute_result"
    }
   ],
   "source": [
    "s1[2:900]"
   ]
  },
  {
   "cell_type": "code",
   "execution_count": 51,
   "id": "d4a4bed4-b989-4766-889b-60182c7ae100",
   "metadata": {},
   "outputs": [],
   "source": [
    "#data extracted will be one less \n",
    "#in slicing even if index not available it will work \n",
    "#but this will not work in indexing"
   ]
  },
  {
   "cell_type": "code",
   "execution_count": 54,
   "id": "1806c029-f6bb-453d-9d0c-35691f658683",
   "metadata": {},
   "outputs": [
    {
     "data": {
      "text/plain": [
       "'psil'"
      ]
     },
     "execution_count": 54,
     "metadata": {},
     "output_type": "execute_result"
    }
   ],
   "source": [
    "s1[0:7:2]\n",
    "#jump the data\n",
    "#for alternate data"
   ]
  },
  {
   "cell_type": "code",
   "execution_count": 55,
   "id": "8a6971d5-8413-4ab2-84ca-57893b1b4e57",
   "metadata": {},
   "outputs": [
    {
     "data": {
      "text/plain": [
       "'pk'"
      ]
     },
     "execution_count": 55,
     "metadata": {},
     "output_type": "execute_result"
    }
   ],
   "source": [
    "s1[0:6:3]"
   ]
  },
  {
   "cell_type": "code",
   "execution_count": 61,
   "id": "61dc4fac-511b-41f7-a818-837025a81c07",
   "metadata": {},
   "outputs": [
    {
     "data": {
      "text/plain": [
       "''"
      ]
     },
     "execution_count": 61,
     "metadata": {},
     "output_type": "execute_result"
    }
   ],
   "source": [
    "s1[7:3]\n",
    "#not happening"
   ]
  },
  {
   "cell_type": "code",
   "execution_count": 64,
   "id": "3e973cc3-993f-4590-96e6-a62b58cebb2c",
   "metadata": {},
   "outputs": [
    {
     "data": {
      "text/plain": [
       "'slli'"
      ]
     },
     "execution_count": 64,
     "metadata": {},
     "output_type": "execute_result"
    }
   ],
   "source": [
    "s1[7:3:-1]\n",
    "#because junp was -1 'backward indexing'"
   ]
  },
  {
   "cell_type": "code",
   "execution_count": 67,
   "id": "4e6e8dad-0507-43e2-9b72-3f46e65cf3c8",
   "metadata": {},
   "outputs": [
    {
     "data": {
      "text/plain": [
       "'slli'"
      ]
     },
     "execution_count": 67,
     "metadata": {},
     "output_type": "execute_result"
    }
   ],
   "source": [
    "s1[-1:-5:-1]"
   ]
  },
  {
   "cell_type": "code",
   "execution_count": 68,
   "id": "ba3bf4f1-0ca0-4da1-994b-458b819b5e5a",
   "metadata": {},
   "outputs": [
    {
     "data": {
      "text/plain": [
       "'sllikswp'"
      ]
     },
     "execution_count": 68,
     "metadata": {},
     "output_type": "execute_result"
    }
   ],
   "source": [
    "s1[-1:-9:-1]"
   ]
  },
  {
   "cell_type": "code",
   "execution_count": 73,
   "id": "914f73e5-6138-4d11-aa83-39fb0aca461c",
   "metadata": {},
   "outputs": [
    {
     "data": {
      "text/plain": [
       "'sllikswp'"
      ]
     },
     "execution_count": 73,
     "metadata": {},
     "output_type": "execute_result"
    }
   ],
   "source": [
    "s1[7:-9:-1]"
   ]
  },
  {
   "cell_type": "code",
   "execution_count": 74,
   "id": "4566a99c-a4d3-434e-a228-61b2b9d38dd9",
   "metadata": {},
   "outputs": [
    {
     "data": {
      "text/plain": [
       "'sllikswp'"
      ]
     },
     "execution_count": 74,
     "metadata": {},
     "output_type": "execute_result"
    }
   ],
   "source": [
    "s1[::-1]"
   ]
  },
  {
   "cell_type": "code",
   "execution_count": 75,
   "id": "4bdb6bdb-71ba-4a58-82d0-e0d8ef91ae7c",
   "metadata": {},
   "outputs": [],
   "source": [
    "#you can dirs1ectly extract the reverse as well without putting the values"
   ]
  },
  {
   "cell_type": "code",
   "execution_count": 76,
   "id": "66e0d59c-41e0-4dea-a64f-bdc89ac45db6",
   "metadata": {},
   "outputs": [
    {
     "data": {
      "text/plain": [
       "'pwskills'"
      ]
     },
     "execution_count": 76,
     "metadata": {},
     "output_type": "execute_result"
    }
   ],
   "source": [
    "s1"
   ]
  },
  {
   "cell_type": "code",
   "execution_count": 77,
   "id": "f1580e54-83c2-447d-bc22-89f24e7f6841",
   "metadata": {},
   "outputs": [
    {
     "data": {
      "text/plain": [
       "'p'"
      ]
     },
     "execution_count": 77,
     "metadata": {},
     "output_type": "execute_result"
    }
   ],
   "source": [
    "s1[0]"
   ]
  },
  {
   "cell_type": "code",
   "execution_count": 78,
   "id": "cf39d44a-d852-478c-9314-bbdee53fafd6",
   "metadata": {},
   "outputs": [],
   "source": [
    "a=10"
   ]
  },
  {
   "cell_type": "code",
   "execution_count": 79,
   "id": "6f820707-cf2c-41dc-b8fa-17408cacd0c6",
   "metadata": {},
   "outputs": [],
   "source": [
    "a=20"
   ]
  },
  {
   "cell_type": "code",
   "execution_count": 80,
   "id": "dd88e183-63d3-4c18-a352-6d40d3362903",
   "metadata": {},
   "outputs": [
    {
     "data": {
      "text/plain": [
       "20"
      ]
     },
     "execution_count": 80,
     "metadata": {},
     "output_type": "execute_result"
    }
   ],
   "source": [
    "a"
   ]
  },
  {
   "cell_type": "code",
   "execution_count": 81,
   "id": "81250a6b-8769-4379-88ac-30a68354ca74",
   "metadata": {},
   "outputs": [
    {
     "ename": "TypeError",
     "evalue": "'str' object does not support item assignment",
     "output_type": "error",
     "traceback": [
      "\u001b[0;31m---------------------------------------------------------------------------\u001b[0m",
      "\u001b[0;31mTypeError\u001b[0m                                 Traceback (most recent call last)",
      "Cell \u001b[0;32mIn[81], line 1\u001b[0m\n\u001b[0;32m----> 1\u001b[0m \u001b[43ms1\u001b[49m\u001b[43m[\u001b[49m\u001b[38;5;241;43m0\u001b[39;49m\u001b[43m]\u001b[49m\u001b[38;5;241m=\u001b[39m\u001b[38;5;124m'\u001b[39m\u001b[38;5;124ms\u001b[39m\u001b[38;5;124m'\u001b[39m\n",
      "\u001b[0;31mTypeError\u001b[0m: 'str' object does not support item assignment"
     ]
    }
   ],
   "source": [
    "s1[0]='s'"
   ]
  },
  {
   "cell_type": "code",
   "execution_count": 82,
   "id": "65533d5e-8c41-4c82-94ee-ffba8bc93cb5",
   "metadata": {},
   "outputs": [],
   "source": [
    "#in string reassignment is not possible"
   ]
  },
  {
   "cell_type": "code",
   "execution_count": 83,
   "id": "1ea624ab-6809-4f73-ac24-0785cd185240",
   "metadata": {},
   "outputs": [],
   "source": [
    "#mutability and imutabilty\n",
    "#if i am unable to make any changes in indexes it is imutable\n",
    "#string is immutable"
   ]
  },
  {
   "cell_type": "code",
   "execution_count": null,
   "id": "249e253a-2cff-42db-bb15-b91f90d8abf5",
   "metadata": {},
   "outputs": [],
   "source": []
  }
 ],
 "metadata": {
  "kernelspec": {
   "display_name": "Python 3 (ipykernel)",
   "language": "python",
   "name": "python3"
  },
  "language_info": {
   "codemirror_mode": {
    "name": "ipython",
    "version": 3
   },
   "file_extension": ".py",
   "mimetype": "text/x-python",
   "name": "python",
   "nbconvert_exporter": "python",
   "pygments_lexer": "ipython3",
   "version": "3.10.8"
  }
 },
 "nbformat": 4,
 "nbformat_minor": 5
}
